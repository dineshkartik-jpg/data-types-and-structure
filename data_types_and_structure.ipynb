{
  "nbformat": 4,
  "nbformat_minor": 0,
  "metadata": {
    "colab": {
      "provenance": []
    },
    "kernelspec": {
      "name": "python3",
      "display_name": "Python 3"
    },
    "language_info": {
      "name": "python"
    }
  },
  "cells": [
    {
      "cell_type": "markdown",
      "source": [
        "#data types and structure\n"
      ],
      "metadata": {
        "id": "FWDtKsEm-bxv"
      }
    },
    {
      "cell_type": "markdown",
      "source": [
        "1. What are data structures, and why are they important?\n",
        "  - Data structure\n",
        "      - Data structure are like containers , which can store tha data and with the help of data structure we can acces the collection of our data. Different types of containers are use for different types of item.\n",
        "  - Importance\n",
        "      - when we choose the right data structure, it impacts the efficiency and performance of your program.\n",
        "      - we can add, remove and modify the elements simply.\n",
        "      - structures can optimize and sorting the operations.\n",
        "      - it is important for fast searching and processing.\n",
        "\n",
        "2. Explain the difference between mutable and immutable data types with     examples.\n",
        "  - Mutable data types\n",
        "    - mutables data types are that we can change the value. It update the value directly. It is fast for changes in example:- dict,list and set.\n",
        "  - Immutable data types\n",
        "    - these are tha data types we can't change the value of object. If you update the object it will become the new object, example:- string, tuples,integer.\n",
        "\n",
        "3. What are the main differences between lists and tuples in Python?\n",
        "  - Lists are mutable but tuples are immutable.\n",
        "  - List is used when data may change, Tuple is used when data is constant.\n",
        "  - List has many methods like append, remove, sort, but Tuple has only count and index.\n",
        "  \n",
        "4. Describe how dictionaries store data?\n",
        "- In python, dictionaries stores the data with pairs of key and value. The values decide the storage location in the internal table.\n",
        "\n",
        "5. Why might you use a set instead of a list in Python?\n",
        " - We use set because set are immutable and nobody can change the data in the data sheet and it only carry unique elements but list are mutable so in our data there is always a way to changing or modifying or update it.\n",
        "\n",
        "6. What is a string in Python, and how is it different from a list?\n",
        " - In string, Characters arranged in an unchangeable order. it uses for writing a sentence, a paragraph, or a piece of material.\n",
        " - Difference:-\n",
        "    - Strings are immutable but lists are mutable.\n",
        "    - string can only stored characters but list store different data types\n",
        "    - List is used for general data collection and strings are use for handling text and characters.\n",
        "    \n",
        "7. How do tuples ensure data integrity in Python?    \n",
        "  - tuples ensure data integrity because they are immutable and protectect data from accidently changes.\n",
        "\n",
        "8. What is a hash table, and how does it relate to dictionaries in Python?\n",
        "  - A hash table is a data structure that maps keys to values using hash functions. Python dictionaries are built on hash tables.\n",
        "\n",
        "9. Can lists contain different data types in Python?\n",
        "  - yes list contains differnet data types like,(string,boolean value,integer,float).\n",
        "\n",
        "10. Explain why strings are immutable in Python?\n",
        "   - Strings are immutable because they ensures memory efficiency and protects data from accidental changes.\n",
        "\n",
        "11. What advantages do dictionaries offer over lists for certain tasks?\n",
        "   - Dictionaries are better than lists for fast access, labeled data, unique keys, and scalable key-based operations.\n",
        "\n",
        "12. Describe a scenario where using a tuple would be preferable over a list?\n",
        "   - Tuples are faster than lists. The values in tuples are fixed but in lists, theyare changable. If you use a tuple, Python will keep them safe and also faster to access. If you used a list, someone might accidentally change the coordinates, which can be not good.Thats why, using tuples are preferable over lists.\n",
        "\n",
        "13. How do sets handle duplicate values in Python?\n",
        "   - Sets automatically remove duplicate value by default , if you try either , sets will only store unique characters.\n",
        "\n",
        "14. How does the “in” keyword work differently for lists and dictionaries?\n",
        "   - In list, “in” keyword check the presence of an element , whether it present in the list or not.\n",
        "   - In dictionaries, “in” keyword used for check only the key components not the value.\n",
        "\n",
        "15. Can you modify the elements of a tuple? Explain why or why not?\n",
        "   - No we can't modify the elements in tuple because are tuples immutable. once you store an element in tuples, that will be unchanged.\n",
        "\n",
        "16. What is a nested dictionary, and give an example of its use case.\n",
        "   - A nested dictionary means having a dictionary inside another dictionary.\n",
        "   - Use case is like we want to store information of many students, where each student has their own details (name, age, course).There we can use nested dictionary.\n",
        "\n",
        "17. Describe the time complexity of accessing elements in a dictionary  \n",
        "  - Accessing elements in a Python dictionary takes O(1) on average (constant time) and O(n) in the rare worst case.\n",
        "\n",
        "18. In what situations are lists preferred over dictionaries?\n",
        "   - Lists are preferred over dictionaries when we need ordered data, allow duplicates, and access items by index, or when we just want a simple collection of elements without key-value pairs.\n",
        "\n",
        "19. Why are dictionaries considered unordered, and how does that affect data retrieval?\n",
        "   - Dictionaries are considered unordered because, traditionally, they didn’t guarantee any specific order of their key–value pairs. that affect data retrioeval in example, looking something up by its label (key) always works, no matter the order. They are designed mainly for quick label-based lookups, not for keeping a perfect sequence like a list would.\n",
        "\n",
        "20. Explain the difference between a list and a dictionary in terms of data retrieval.\n",
        "  - List\n",
        "\n",
        "    - A list stores items in a specific order, and you retrieve data by its position (index).Retrieval is fast if you know the index, but you must remember the exact position.\n",
        "\n",
        " - Dictionary\n",
        "\n",
        "   - A dictionary stores data as key–value pairs, and you retrieve data using a key instead of a position. This makes dictionaries better when you need quick lookups based on a unique identifier, not an item’s position."
      ],
      "metadata": {
        "id": "uJGoDXXoJCOf"
      }
    },
    {
      "cell_type": "code",
      "execution_count": null,
      "metadata": {
        "id": "baSxrzvA-XfD",
        "colab": {
          "base_uri": "https://localhost:8080/"
        },
        "outputId": "5621c71f-8f8f-49c8-949f-4618af449ab9"
      },
      "outputs": [
        {
          "output_type": "stream",
          "name": "stdout",
          "text": [
            "dinesh\n"
          ]
        }
      ],
      "source": [
        "#1. Write a code to create a string with your name and print it.\n",
        "name = \"dinesh\"\n",
        "print(name)"
      ]
    },
    {
      "cell_type": "code",
      "source": [
        "#2.  Write a code to find the length of the string \"Hello World\"\n",
        "quote = \"Hello World\"\n",
        "print(len(quote))"
      ],
      "metadata": {
        "colab": {
          "base_uri": "https://localhost:8080/"
        },
        "id": "86ssNeyZKzv-",
        "outputId": "be9fc1ec-59f8-400d-cc04-1e5ae78eb981"
      },
      "execution_count": null,
      "outputs": [
        {
          "output_type": "stream",
          "name": "stdout",
          "text": [
            "11\n"
          ]
        }
      ]
    },
    {
      "cell_type": "code",
      "source": [
        "#3. Write a code to slice the first 3 characters from the string \"Python Programming\"\n",
        "string = \"Python Programming\"\n",
        "print(string[0:3])"
      ],
      "metadata": {
        "colab": {
          "base_uri": "https://localhost:8080/"
        },
        "id": "HidwONM_Kzso",
        "outputId": "0952a60d-5592-4fda-be7d-deff03541ad9"
      },
      "execution_count": null,
      "outputs": [
        {
          "output_type": "stream",
          "name": "stdout",
          "text": [
            "Pyt\n"
          ]
        }
      ]
    },
    {
      "cell_type": "code",
      "source": [
        "#4. Write a code to convert the string \"hello\" to uppercase.\n",
        "string = \"hello\"\n",
        "print(string.upper())"
      ],
      "metadata": {
        "colab": {
          "base_uri": "https://localhost:8080/"
        },
        "id": "2JbkwqokKzqa",
        "outputId": "d5258587-c681-4bde-b640-338c4739fe39"
      },
      "execution_count": null,
      "outputs": [
        {
          "output_type": "stream",
          "name": "stdout",
          "text": [
            "HELLO\n"
          ]
        }
      ]
    },
    {
      "cell_type": "code",
      "source": [
        "#5. Write a code to replace the word \"apple\" with \"orange\" in the string \"I like apple\"\n",
        "string = \"I like apple\"\n",
        "print(string.replace(\"apple\",\"orange\"))"
      ],
      "metadata": {
        "colab": {
          "base_uri": "https://localhost:8080/"
        },
        "id": "qJ5D9-nyKzoI",
        "outputId": "5a92e35d-b1cd-4718-f85f-895206cdb930"
      },
      "execution_count": null,
      "outputs": [
        {
          "output_type": "stream",
          "name": "stdout",
          "text": [
            "I like orange\n"
          ]
        }
      ]
    },
    {
      "cell_type": "code",
      "source": [
        "#6. Write a code to create a list with numbers 1 to 5 and print it.\n",
        "list = [1,2,3,4,5]\n",
        "print(list)"
      ],
      "metadata": {
        "colab": {
          "base_uri": "https://localhost:8080/"
        },
        "id": "X5dUZhaFKzlh",
        "outputId": "0f810d73-b6dc-49e8-a233-77e56ed43e9c"
      },
      "execution_count": null,
      "outputs": [
        {
          "output_type": "stream",
          "name": "stdout",
          "text": [
            "[1, 2, 3, 4, 5]\n"
          ]
        }
      ]
    },
    {
      "cell_type": "code",
      "source": [
        "#7. Write a code to append the number 10 to the list [1, 2, 3, 4]\n",
        "list = [1,2,3,4]\n",
        "list.append(10)\n",
        "print(list)"
      ],
      "metadata": {
        "colab": {
          "base_uri": "https://localhost:8080/"
        },
        "id": "tuJOQn6CKzjZ",
        "outputId": "4bc12932-a00f-4602-b1f7-abe72b77e1fc"
      },
      "execution_count": null,
      "outputs": [
        {
          "output_type": "stream",
          "name": "stdout",
          "text": [
            "[1, 2, 3, 4, 10]\n"
          ]
        }
      ]
    },
    {
      "cell_type": "code",
      "source": [
        "#8. Write a code to remove the number 3 from the list [1, 2, 3, 4, 5]\n",
        "list = [1,2,3,4,5]\n",
        "list.remove(3)\n",
        "print(list)"
      ],
      "metadata": {
        "colab": {
          "base_uri": "https://localhost:8080/"
        },
        "id": "pjRtDBF1Kzg1",
        "outputId": "73715c50-5b3e-4722-d7e5-b989b8a1814e"
      },
      "execution_count": null,
      "outputs": [
        {
          "output_type": "stream",
          "name": "stdout",
          "text": [
            "[1, 2, 4, 5]\n"
          ]
        }
      ]
    },
    {
      "cell_type": "code",
      "source": [
        "#9. Write a code to access the second element in the list ['a', 'b', 'c', 'd']\n",
        "list = ['a', 'b', 'c', 'd']\n",
        "print(list[1])"
      ],
      "metadata": {
        "colab": {
          "base_uri": "https://localhost:8080/"
        },
        "id": "zn5fk3seKzeg",
        "outputId": "e9a7814a-e8d5-42de-9611-b389a476d530"
      },
      "execution_count": null,
      "outputs": [
        {
          "output_type": "stream",
          "name": "stdout",
          "text": [
            "b\n"
          ]
        }
      ]
    },
    {
      "cell_type": "code",
      "source": [
        "#10. Write a code to reverse the list [10, 20, 30, 40, 50]\n",
        "list = [10, 20, 30, 40, 50]\n",
        "print(list[::-1])"
      ],
      "metadata": {
        "colab": {
          "base_uri": "https://localhost:8080/"
        },
        "id": "qdXCbA9oKzb5",
        "outputId": "4832e2f9-d0b2-4398-e5b9-34a7dd446b2b"
      },
      "execution_count": null,
      "outputs": [
        {
          "output_type": "stream",
          "name": "stdout",
          "text": [
            "[50, 40, 30, 20, 10]\n"
          ]
        }
      ]
    },
    {
      "cell_type": "code",
      "source": [
        "#11. Write a code to create a tuple with the elements 100, 200, 300 and print it.\n",
        "tuple = (100,200,300)\n",
        "print(tuple)"
      ],
      "metadata": {
        "colab": {
          "base_uri": "https://localhost:8080/"
        },
        "id": "j6BBzdsfKzZR",
        "outputId": "c0f3ae91-11a9-4a3e-8a86-56b381e16373"
      },
      "execution_count": null,
      "outputs": [
        {
          "output_type": "stream",
          "name": "stdout",
          "text": [
            "(100, 200, 300)\n"
          ]
        }
      ]
    },
    {
      "cell_type": "code",
      "source": [
        "#12. Write a code to access the second-to-last element of the tuple ('red', 'green', 'blue', 'yellow').\n",
        "tuple = ('red', 'green', 'blue', 'yellow')\n",
        "print (tuple[1:5])"
      ],
      "metadata": {
        "colab": {
          "base_uri": "https://localhost:8080/"
        },
        "id": "7jQ4snm1KzXL",
        "outputId": "e9e567fd-b751-489a-abf9-47a431904350"
      },
      "execution_count": null,
      "outputs": [
        {
          "output_type": "stream",
          "name": "stdout",
          "text": [
            "('green', 'blue', 'yellow')\n"
          ]
        }
      ]
    },
    {
      "cell_type": "code",
      "source": [
        "#13.  Write a code to find the minimum number in the tuple (10, 20, 5, 15).\n",
        "tuple = (10, 20, 5, 15)\n",
        "print(min(tuple))"
      ],
      "metadata": {
        "colab": {
          "base_uri": "https://localhost:8080/"
        },
        "id": "aCL16xmjKzUp",
        "outputId": "81819017-8ad3-4918-dc24-06ee9b773423"
      },
      "execution_count": null,
      "outputs": [
        {
          "output_type": "stream",
          "name": "stdout",
          "text": [
            "5\n"
          ]
        }
      ]
    },
    {
      "cell_type": "code",
      "source": [
        "#14.  Write a code to find the index of the element \"cat\" in the tuple ('dog', 'cat', 'rabbit').\n",
        "tuple = ('dog', 'cat', 'rabbit')\n",
        "print(tuple.index(\"cat\"))"
      ],
      "metadata": {
        "colab": {
          "base_uri": "https://localhost:8080/"
        },
        "id": "fe8Jc35dKzSE",
        "outputId": "7d481da2-ce72-4fa3-a623-03626add0440"
      },
      "execution_count": null,
      "outputs": [
        {
          "output_type": "stream",
          "name": "stdout",
          "text": [
            "1\n"
          ]
        }
      ]
    },
    {
      "cell_type": "code",
      "source": [
        "#15. Write a code to create a tuple containing three different fruits and check if \"kiwi\" is in it.\n",
        "tuple = (\"apple\",\"banana\",\"kiwi\")\n",
        "print(\"kiwi\" in tuple)"
      ],
      "metadata": {
        "colab": {
          "base_uri": "https://localhost:8080/"
        },
        "id": "7N1B5NrWKzPq",
        "outputId": "dcbd8ab3-5fd3-49c1-99e9-b398e342a512"
      },
      "execution_count": null,
      "outputs": [
        {
          "output_type": "stream",
          "name": "stdout",
          "text": [
            "True\n"
          ]
        }
      ]
    },
    {
      "cell_type": "code",
      "source": [
        "#16. Write a code to create a set with the elements 'a', 'b', 'c' and print it.\n",
        "set = {\"a\",\"b\",\"c\"}\n",
        "print(set)"
      ],
      "metadata": {
        "colab": {
          "base_uri": "https://localhost:8080/"
        },
        "id": "M8mzIxuOKzMz",
        "outputId": "443b0718-2f17-437d-afff-852ebc0270bc"
      },
      "execution_count": null,
      "outputs": [
        {
          "output_type": "stream",
          "name": "stdout",
          "text": [
            "{'c', 'b', 'a'}\n"
          ]
        }
      ]
    },
    {
      "cell_type": "code",
      "source": [
        "#17. Write a code to clear all elements from the set {1, 2, 3, 4, 5}.\n",
        "set = {1, 2, 3, 4, 5}\n",
        "set.clear()\n",
        "print(set)"
      ],
      "metadata": {
        "colab": {
          "base_uri": "https://localhost:8080/"
        },
        "id": "l416fKF1KzKY",
        "outputId": "c3cb7c41-f0a1-4dcc-a143-b6a693e72218"
      },
      "execution_count": null,
      "outputs": [
        {
          "output_type": "stream",
          "name": "stdout",
          "text": [
            "set()\n"
          ]
        }
      ]
    },
    {
      "cell_type": "code",
      "source": [
        "#18.  Write a code to remove the element 4 from the set {1, 2, 3, 4}.\n",
        "set = {1, 2, 3, 4}\n",
        "set.remove(4)\n",
        "print(set)"
      ],
      "metadata": {
        "colab": {
          "base_uri": "https://localhost:8080/"
        },
        "id": "NhqwOVWeKzH3",
        "outputId": "679a4a0a-34e8-4d77-8b9e-a0b15a25313f"
      },
      "execution_count": null,
      "outputs": [
        {
          "output_type": "stream",
          "name": "stdout",
          "text": [
            "{1, 2, 3}\n"
          ]
        }
      ]
    },
    {
      "cell_type": "code",
      "source": [
        "#19. Write a code to find the union of two sets {1, 2, 3} and {3, 4, 5}.\n",
        "set1 = {1, 2, 3}\n",
        "set2 = {3, 4, 5}\n",
        "print(set1.union(set2))"
      ],
      "metadata": {
        "colab": {
          "base_uri": "https://localhost:8080/"
        },
        "id": "rUbBuauhKzE6",
        "outputId": "84e2d5ec-7089-4ef5-9c75-fc74a8a903f8"
      },
      "execution_count": null,
      "outputs": [
        {
          "output_type": "stream",
          "name": "stdout",
          "text": [
            "{1, 2, 3, 4, 5}\n"
          ]
        }
      ]
    },
    {
      "cell_type": "code",
      "source": [
        "#20.  Write a code to find the intersection of two sets {1, 2, 3} and {2, 3, 4}\n",
        "set1 = {1, 2, 3}\n",
        "set2 = {2, 3, 4}\n",
        "print(set1 & set2)"
      ],
      "metadata": {
        "colab": {
          "base_uri": "https://localhost:8080/"
        },
        "id": "JxL3nQpsKzCg",
        "outputId": "73c7805a-0269-4313-adc4-ebc06e417274"
      },
      "execution_count": null,
      "outputs": [
        {
          "output_type": "stream",
          "name": "stdout",
          "text": [
            "{2, 3}\n"
          ]
        }
      ]
    },
    {
      "cell_type": "code",
      "source": [
        "#21. Write a code to create a dictionary with the keys \"name\", \"age\", and \"city\", and print it.\n",
        "dict = {\"name\":\"dinesh\",\"age\":21,\"city\":\"noida\"}\n",
        "print(dict)"
      ],
      "metadata": {
        "colab": {
          "base_uri": "https://localhost:8080/"
        },
        "id": "svB5oTj-Ky_0",
        "outputId": "a2cba1fd-e9bc-4ce1-8076-1b11e503f5cd"
      },
      "execution_count": null,
      "outputs": [
        {
          "output_type": "stream",
          "name": "stdout",
          "text": [
            "{'name': 'dinesh', 'age': 21, 'city': 'noida'}\n"
          ]
        }
      ]
    },
    {
      "cell_type": "code",
      "source": [
        "#22. Write a code to add a new key-value pair \"country\": \"USA\" to the dictionary {'name': 'John', 'age': 25}.\n",
        "dictionary = {'name': 'ram', 'age': 23}\n",
        "dictionary[\"country\"] = \"india\"\n",
        "print(dictionary)"
      ],
      "metadata": {
        "colab": {
          "base_uri": "https://localhost:8080/"
        },
        "id": "xad5zy3PKy9S",
        "outputId": "c4467f69-6e7d-4277-a774-8c3368b4c749"
      },
      "execution_count": null,
      "outputs": [
        {
          "output_type": "stream",
          "name": "stdout",
          "text": [
            "{'name': 'ram', 'age': 23, 'country': 'india'}\n"
          ]
        }
      ]
    },
    {
      "cell_type": "code",
      "source": [
        "#23. Write a code to access the value associated with the key \"name\" in the dictionary {'name': 'Alice', 'age': 30}.\n",
        "dictionary = {'name': 'Alice', 'age': 30}\n",
        "print(dictionary[\"name\"])"
      ],
      "metadata": {
        "colab": {
          "base_uri": "https://localhost:8080/"
        },
        "id": "nlaVd54kKy66",
        "outputId": "d0db7fd8-3303-4531-dda1-9dda8d02799a"
      },
      "execution_count": null,
      "outputs": [
        {
          "output_type": "stream",
          "name": "stdout",
          "text": [
            "Alice\n"
          ]
        }
      ]
    },
    {
      "cell_type": "code",
      "source": [
        "#24. Write a code to remove the key \"age\" from the dictionary {'name': 'Bob', 'age': 22, 'city': 'New York'}.\n",
        "dictionary = {'name': 'john', 'age': 22, 'city': 'london'}\n",
        "dictionary.pop(\"age\")\n",
        "print(dictionary)"
      ],
      "metadata": {
        "colab": {
          "base_uri": "https://localhost:8080/"
        },
        "id": "XRzd5HuJKy4u",
        "outputId": "01a4a4a0-f040-48d3-c800-474fed9f931f"
      },
      "execution_count": null,
      "outputs": [
        {
          "output_type": "stream",
          "name": "stdout",
          "text": [
            "{'name': 'john', 'city': 'london'}\n"
          ]
        }
      ]
    },
    {
      "cell_type": "code",
      "source": [
        "#25. Write a code to check if the key \"city\" exists in the dictionary {'name': 'Alice', 'city': 'Paris'}.\n",
        "dictionary = {'name': 'amisa', 'city': 'paris'}\n",
        "print(\"city\" in dictionary)"
      ],
      "metadata": {
        "colab": {
          "base_uri": "https://localhost:8080/"
        },
        "id": "_J_2aJPlKy10",
        "outputId": "47bfd842-5c8b-42bf-eee5-a70ae7c7644a"
      },
      "execution_count": null,
      "outputs": [
        {
          "output_type": "stream",
          "name": "stdout",
          "text": [
            "True\n"
          ]
        }
      ]
    },
    {
      "cell_type": "code",
      "source": [
        "#26. Write a code to create a list, a tuple, and a dictionary, and print them all.\n",
        "list = [1,2,3,4,5]\n",
        "tuple = (5,4,3,2,1)\n",
        "dictionary = {\"name\":\"dinesh\",\"age\":21,\"city\":\"noida\"}\n",
        "print(list)\n",
        "print(tuple)\n",
        "print(dictionary)"
      ],
      "metadata": {
        "colab": {
          "base_uri": "https://localhost:8080/"
        },
        "id": "P6KA-eJCKyqe",
        "outputId": "9a1cb7ea-e9f4-40f8-c04a-ef413c33f0e1"
      },
      "execution_count": null,
      "outputs": [
        {
          "output_type": "stream",
          "name": "stdout",
          "text": [
            "[1, 2, 3, 4, 5]\n",
            "(5, 4, 3, 2, 1)\n",
            "{'name': 'dinesh', 'age': 21, 'city': 'noida'}\n"
          ]
        }
      ]
    },
    {
      "cell_type": "code",
      "source": [
        "#27. Write a code to create a list of 5 random numbers between 1 and 100, sort it in ascending order, and print the result.\n",
        "list = [6, 9, 26, 74, 65]\n",
        "list.sort()\n",
        "print(list)"
      ],
      "metadata": {
        "colab": {
          "base_uri": "https://localhost:8080/"
        },
        "id": "yDY6Ws_NKyoK",
        "outputId": "aeb53788-8285-4e41-ac81-1a712da9cb12"
      },
      "execution_count": null,
      "outputs": [
        {
          "output_type": "stream",
          "name": "stdout",
          "text": [
            "[6, 9, 26, 65, 74]\n"
          ]
        }
      ]
    },
    {
      "cell_type": "code",
      "source": [
        "#28. Write a code to create a list with strings and print the element at the third index\n",
        "list = [\"apple\",\"banana\",\"orange\"]\n",
        "print(list[2])"
      ],
      "metadata": {
        "colab": {
          "base_uri": "https://localhost:8080/"
        },
        "id": "1B9stY5JKylz",
        "outputId": "652d2885-c07a-4d63-e554-8ff9d0268260"
      },
      "execution_count": null,
      "outputs": [
        {
          "output_type": "stream",
          "name": "stdout",
          "text": [
            "orange\n"
          ]
        }
      ]
    },
    {
      "cell_type": "code",
      "source": [
        "#29. Write a code to combine two dictionaries into one and print the result.\n",
        "dict1 = {\"name\": \"dinesh\", \"age\": 21, \"city\": \"noida\"}\n",
        "dict2 = {\"name\": \"anup\", \"age\": 20, \"city\": \"agra\"}\n",
        "\n",
        "comb_dict = dict1 | dict2\n",
        "print(comb_dict)"
      ],
      "metadata": {
        "colab": {
          "base_uri": "https://localhost:8080/"
        },
        "id": "CPuZsZ-FKyjc",
        "outputId": "c1fd0a88-3d7a-454a-a6bc-a71564ba0eaf"
      },
      "execution_count": null,
      "outputs": [
        {
          "output_type": "stream",
          "name": "stdout",
          "text": [
            "{'name': 'anup', 'age': 20, 'city': 'agra'}\n"
          ]
        }
      ]
    },
    {
      "cell_type": "code",
      "source": [
        "#30. Write a code to convert a list of strings into a set.\n",
        "list = [\"apple\",\"banana\",\"chiku\"]\n",
        "print(set(list))\n"
      ],
      "metadata": {
        "colab": {
          "base_uri": "https://localhost:8080/"
        },
        "id": "I1YhIAbIKyhS",
        "outputId": "0a424034-4842-45dd-c935-bad1716a0924"
      },
      "execution_count": 1,
      "outputs": [
        {
          "output_type": "stream",
          "name": "stdout",
          "text": [
            "{'banana', 'apple', 'chiku'}\n"
          ]
        }
      ]
    },
    {
      "cell_type": "code",
      "source": [],
      "metadata": {
        "id": "HT2JcU9UKye4"
      },
      "execution_count": null,
      "outputs": []
    },
    {
      "cell_type": "code",
      "source": [],
      "metadata": {
        "id": "xNnNFFkDKycj"
      },
      "execution_count": null,
      "outputs": []
    },
    {
      "cell_type": "code",
      "source": [],
      "metadata": {
        "id": "Towvtw_3KyaJ"
      },
      "execution_count": null,
      "outputs": []
    },
    {
      "cell_type": "code",
      "source": [],
      "metadata": {
        "id": "32lKtCl3KyYC"
      },
      "execution_count": null,
      "outputs": []
    },
    {
      "cell_type": "code",
      "source": [],
      "metadata": {
        "id": "4F8w3FrkKyVr"
      },
      "execution_count": null,
      "outputs": []
    },
    {
      "cell_type": "code",
      "source": [],
      "metadata": {
        "id": "28x7xzKPKyTj"
      },
      "execution_count": null,
      "outputs": []
    },
    {
      "cell_type": "code",
      "source": [],
      "metadata": {
        "id": "3sMNbLuEKyRO"
      },
      "execution_count": null,
      "outputs": []
    }
  ]
}